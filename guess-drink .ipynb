{
 "cells": [
  {
   "cell_type": "code",
   "execution_count": 1,
   "id": "be90e86a",
   "metadata": {},
   "outputs": [],
   "source": [
    "#pip install simple_image_download==0.2\n"
   ]
  },
  {
   "cell_type": "code",
   "execution_count": 2,
   "id": "62b4c1cf",
   "metadata": {},
   "outputs": [],
   "source": [
    "#pip list"
   ]
  },
  {
   "cell_type": "code",
   "execution_count": 3,
   "id": "a6d45e5f",
   "metadata": {},
   "outputs": [],
   "source": [
    "from simple_image_download import simple_image_download as simp\n",
    " "
   ]
  },
  {
   "cell_type": "code",
   "execution_count": 4,
   "id": "f61e09c7",
   "metadata": {},
   "outputs": [],
   "source": [
    "simp = simp.simple_image_download()"
   ]
  },
  {
   "cell_type": "code",
   "execution_count": 6,
   "id": "14e0ab29",
   "metadata": {},
   "outputs": [],
   "source": [
    "l=['birds','insects']"
   ]
  },
  {
   "cell_type": "code",
   "execution_count": 7,
   "id": "153f38ac",
   "metadata": {},
   "outputs": [],
   "source": [
    "no=50"
   ]
  },
  {
   "cell_type": "code",
   "execution_count": 9,
   "id": "dc556a9f",
   "metadata": {},
   "outputs": [],
   "source": [
    "for i in l :\n",
    "    simp.download(i,no)"
   ]
  },
  {
   "cell_type": "code",
   "execution_count": null,
   "id": "8e96f344",
   "metadata": {},
   "outputs": [],
   "source": []
  }
 ],
 "metadata": {
  "kernelspec": {
   "display_name": "Python 3 (ipykernel)",
   "language": "python",
   "name": "python3"
  },
  "language_info": {
   "codemirror_mode": {
    "name": "ipython",
    "version": 3
   },
   "file_extension": ".py",
   "mimetype": "text/x-python",
   "name": "python",
   "nbconvert_exporter": "python",
   "pygments_lexer": "ipython3",
   "version": "3.10.7"
  }
 },
 "nbformat": 4,
 "nbformat_minor": 5
}

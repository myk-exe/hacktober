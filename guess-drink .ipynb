{
 "cells": [
  {
   "cell_type": "code",
   "execution_count": 1,
   "id": "be90e86a",
   "metadata": {},
   "outputs": [],
   "source": [
    "#pip install simple_image_download==0.2\n"
   ]
  },
  {
   "cell_type": "code",
   "execution_count": 2,
   "id": "cebd186a",
   "metadata": {},
   "outputs": [],
   "source": [
    "#pip list"
   ]
  },
  {
   "cell_type": "code",
   "execution_count": 3,
   "id": "a6d45e5f",
   "metadata": {},
   "outputs": [],
   "source": [
    "from simple_image_download import simple_image_download as simp\n",
    " "
   ]
  },
  {
   "cell_type": "code",
   "execution_count": 4,
   "id": "f61e09c7",
   "metadata": {},
   "outputs": [],
   "source": [
    "simp = simp.simple_image_download()"
   ]
  },
  {
   "cell_type": "code",
   "execution_count": 6,
   "id": "14e0ab29",
   "metadata": {},
   "outputs": [],
   "source": [
    "l=['birds','insects']"
   ]
  },
  {
   "cell_type": "code",
   "execution_count": 7,
   "id": "e5051d88",
   "metadata": {},
   "outputs": [],
   "source": [
    "no=50"
   ]
  },
  {
   "cell_type": "code",
   "execution_count": 9,
   "id": "898bae34",
   "metadata": {},
   "outputs": [],
   "source": [
    "for i in l :\n",
    "    simp.download(i,no)"
   ]
  },
  {
   "cell_type": "code",
   "execution_count": 10,
   "id": "f49c7148",
   "metadata": {},
   "outputs": [],
   "source": [
    "from fastai.vision.all import *"
   ]
  },
  {
   "cell_type": "code",
   "execution_count": 34,
   "id": "de1072c2",
   "metadata": {},
   "outputs": [],
   "source": [
    "path=Path(\"C:\\\\hacktober\\\\classification-project\\\\simple_images\")"
   ]
  },
  {
   "cell_type": "code",
   "execution_count": 35,
   "id": "fa093404",
   "metadata": {},
   "outputs": [
    {
     "name": "stdout",
     "output_type": "stream",
     "text": [
      "Due to IPython and Windows limitation, python multiprocessing isn't available now.\n",
      "So `number_workers` is changed to 0 to avoid getting stuck\n"
     ]
    }
   ],
   "source": [
    "data = ImageDataLoaders.from_folder(path,bs=8,valid_pct=0.1,item_tfms=Resize(224))"
   ]
  },
  {
   "cell_type": "code",
   "execution_count": 36,
   "id": "04a00974",
   "metadata": {},
   "outputs": [],
   "source": [
    "learn = vision_learner(dls=data,arch=resnet18)"
   ]
  },
  {
   "cell_type": "code",
   "execution_count": 37,
   "id": "26d741d4",
   "metadata": {},
   "outputs": [
    {
     "data": {
      "text/html": [
       "\n",
       "<style>\n",
       "    /* Turns off some styling */\n",
       "    progress {\n",
       "        /* gets rid of default border in Firefox and Opera. */\n",
       "        border: none;\n",
       "        /* Needs to be in here for Safari polyfill so background images work as expected. */\n",
       "        background-size: auto;\n",
       "    }\n",
       "    progress:not([value]), progress:not([value])::-webkit-progress-bar {\n",
       "        background: repeating-linear-gradient(45deg, #7e7e7e, #7e7e7e 10px, #5c5c5c 10px, #5c5c5c 20px);\n",
       "    }\n",
       "    .progress-bar-interrupted, .progress-bar-interrupted::-webkit-progress-bar {\n",
       "        background: #F44336;\n",
       "    }\n",
       "</style>\n"
      ],
      "text/plain": [
       "<IPython.core.display.HTML object>"
      ]
     },
     "metadata": {},
     "output_type": "display_data"
    },
    {
     "data": {
      "text/html": [
       "<table border=\"1\" class=\"dataframe\">\n",
       "  <thead>\n",
       "    <tr style=\"text-align: left;\">\n",
       "      <th>epoch</th>\n",
       "      <th>train_loss</th>\n",
       "      <th>valid_loss</th>\n",
       "      <th>time</th>\n",
       "    </tr>\n",
       "  </thead>\n",
       "  <tbody>\n",
       "    <tr>\n",
       "      <td>0</td>\n",
       "      <td>1.075645</td>\n",
       "      <td>0.204945</td>\n",
       "      <td>00:09</td>\n",
       "    </tr>\n",
       "    <tr>\n",
       "      <td>1</td>\n",
       "      <td>0.747919</td>\n",
       "      <td>0.055018</td>\n",
       "      <td>00:07</td>\n",
       "    </tr>\n",
       "    <tr>\n",
       "      <td>2</td>\n",
       "      <td>0.545280</td>\n",
       "      <td>0.057097</td>\n",
       "      <td>00:07</td>\n",
       "    </tr>\n",
       "  </tbody>\n",
       "</table>"
      ],
      "text/plain": [
       "<IPython.core.display.HTML object>"
      ]
     },
     "metadata": {},
     "output_type": "display_data"
    }
   ],
   "source": [
    "learn.fit_one_cycle(3)"
   ]
  },
  {
   "cell_type": "code",
   "execution_count": null,
   "id": "81f12930",
   "metadata": {},
   "outputs": [],
   "source": []
  }
 ],
 "metadata": {
  "kernelspec": {
   "display_name": "Python 3 (ipykernel)",
   "language": "python",
   "name": "python3"
  },
  "language_info": {
   "codemirror_mode": {
    "name": "ipython",
    "version": 3
   },
   "file_extension": ".py",
   "mimetype": "text/x-python",
   "name": "python",
   "nbconvert_exporter": "python",
   "pygments_lexer": "ipython3",
   "version": "3.10.7"
  }
 },
 "nbformat": 4,
 "nbformat_minor": 5
}

{
 "cells": [
  {
   "cell_type": "code",
   "execution_count": 1,
   "id": "be90e86a",
   "metadata": {},
   "outputs": [],
   "source": [
    "#pip install simple_image_download==0.2\n"
   ]
  },
  {
   "cell_type": "code",
   "execution_count": 2,
   "id": "2c3690df",
   "metadata": {},
   "outputs": [],
   "source": [
    "#pip list"
   ]
  },
  {
   "cell_type": "code",
   "execution_count": 3,
   "id": "a6d45e5f",
   "metadata": {},
   "outputs": [],
   "source": [
    "from simple_image_download import simple_image_download as simp\n",
    " "
   ]
  },
  {
   "cell_type": "code",
   "execution_count": 4,
   "id": "f61e09c7",
   "metadata": {},
   "outputs": [],
   "source": [
    "simp = simp.simple_image_download()"
   ]
  },
  {
   "cell_type": "code",
   "execution_count": 5,
   "id": "14e0ab29",
   "metadata": {},
   "outputs": [],
   "source": [
    "l=['birds','insects']"
   ]
  },
  {
   "cell_type": "code",
   "execution_count": 6,
   "id": "b4b96471",
   "metadata": {},
   "outputs": [],
   "source": [
    "no=50"
   ]
  },
  {
   "cell_type": "code",
   "execution_count": 7,
   "id": "fa24f2f7",
   "metadata": {},
   "outputs": [],
   "source": [
    "# for i in l :\n",
    "#     simp.download(i,no)"
   ]
  },
  {
   "cell_type": "code",
   "execution_count": 8,
   "id": "b6be254b",
   "metadata": {},
   "outputs": [],
   "source": [
    "from fastai.vision.all import *"
   ]
  },
  {
   "cell_type": "code",
   "execution_count": 9,
   "id": "bd1a6b4d",
   "metadata": {},
   "outputs": [],
   "source": [
    "path=Path(\"C:\\\\hacktober\\\\classification-project\\\\simple_images\")"
   ]
  },
  {
   "cell_type": "code",
   "execution_count": 10,
   "id": "65ad7e06",
   "metadata": {},
   "outputs": [
    {
     "name": "stdout",
     "output_type": "stream",
     "text": [
      "Due to IPython and Windows limitation, python multiprocessing isn't available now.\n",
      "So `number_workers` is changed to 0 to avoid getting stuck\n"
     ]
    }
   ],
   "source": [
    "data = ImageDataLoaders.from_folder(path,bs=8,valid_pct=0.1,item_tfms=Resize(224))"
   ]
  },
  {
   "cell_type": "code",
   "execution_count": 11,
   "id": "a283c8bb",
   "metadata": {},
   "outputs": [
    {
     "name": "stderr",
     "output_type": "stream",
     "text": [
      "C:\\Users\\dasho\\AppData\\Local\\Programs\\Python\\Python310\\lib\\site-packages\\torchvision\\models\\_utils.py:208: UserWarning: The parameter 'pretrained' is deprecated since 0.13 and will be removed in 0.15, please use 'weights' instead.\n",
      "  warnings.warn(\n",
      "C:\\Users\\dasho\\AppData\\Local\\Programs\\Python\\Python310\\lib\\site-packages\\torchvision\\models\\_utils.py:223: UserWarning: Arguments other than a weight enum or `None` for 'weights' are deprecated since 0.13 and will be removed in 0.15. The current behavior is equivalent to passing `weights=ResNet18_Weights.IMAGENET1K_V1`. You can also use `weights=ResNet18_Weights.DEFAULT` to get the most up-to-date weights.\n",
      "  warnings.warn(msg)\n"
     ]
    }
   ],
   "source": [
    "learn = vision_learner(dls=data,arch=resnet18,metrics=[accuracy])"
   ]
  },
  {
   "cell_type": "code",
   "execution_count": 12,
   "id": "7cebe50f",
   "metadata": {},
   "outputs": [
    {
     "data": {
      "text/html": [
       "\n",
       "<style>\n",
       "    /* Turns off some styling */\n",
       "    progress {\n",
       "        /* gets rid of default border in Firefox and Opera. */\n",
       "        border: none;\n",
       "        /* Needs to be in here for Safari polyfill so background images work as expected. */\n",
       "        background-size: auto;\n",
       "    }\n",
       "    progress:not([value]), progress:not([value])::-webkit-progress-bar {\n",
       "        background: repeating-linear-gradient(45deg, #7e7e7e, #7e7e7e 10px, #5c5c5c 10px, #5c5c5c 20px);\n",
       "    }\n",
       "    .progress-bar-interrupted, .progress-bar-interrupted::-webkit-progress-bar {\n",
       "        background: #F44336;\n",
       "    }\n",
       "</style>\n"
      ],
      "text/plain": [
       "<IPython.core.display.HTML object>"
      ]
     },
     "metadata": {},
     "output_type": "display_data"
    },
    {
     "data": {
      "text/html": [
       "<table border=\"1\" class=\"dataframe\">\n",
       "  <thead>\n",
       "    <tr style=\"text-align: left;\">\n",
       "      <th>epoch</th>\n",
       "      <th>train_loss</th>\n",
       "      <th>valid_loss</th>\n",
       "      <th>accuracy</th>\n",
       "      <th>time</th>\n",
       "    </tr>\n",
       "  </thead>\n",
       "  <tbody>\n",
       "    <tr>\n",
       "      <td>0</td>\n",
       "      <td>1.203737</td>\n",
       "      <td>0.377627</td>\n",
       "      <td>0.750000</td>\n",
       "      <td>00:08</td>\n",
       "    </tr>\n",
       "    <tr>\n",
       "      <td>1</td>\n",
       "      <td>0.780313</td>\n",
       "      <td>0.097776</td>\n",
       "      <td>1.000000</td>\n",
       "      <td>00:07</td>\n",
       "    </tr>\n",
       "    <tr>\n",
       "      <td>2</td>\n",
       "      <td>0.586752</td>\n",
       "      <td>0.095767</td>\n",
       "      <td>1.000000</td>\n",
       "      <td>00:07</td>\n",
       "    </tr>\n",
       "  </tbody>\n",
       "</table>"
      ],
      "text/plain": [
       "<IPython.core.display.HTML object>"
      ]
     },
     "metadata": {},
     "output_type": "display_data"
    }
   ],
   "source": [
    "learn.fit_one_cycle(3)"
   ]
  },
  {
   "cell_type": "code",
   "execution_count": 13,
   "id": "bc141dba",
   "metadata": {},
   "outputs": [],
   "source": [
    "#pip install pillow"
   ]
  },
  {
   "cell_type": "code",
   "execution_count": 14,
   "id": "9a788cf8",
   "metadata": {},
   "outputs": [],
   "source": [
    "from PIL import Image"
   ]
  },
  {
   "cell_type": "code",
   "execution_count": 23,
   "id": "6523aae1",
   "metadata": {
    "scrolled": true
   },
   "outputs": [],
   "source": [
    "img=Image.open(\"C:\\hacktober\\classification-project\\simple_images\\insects\\insects_16.jpg\")"
   ]
  },
  {
   "cell_type": "code",
   "execution_count": 24,
   "id": "8bc84736",
   "metadata": {},
   "outputs": [],
   "source": [
    "import numpy as np"
   ]
  },
  {
   "cell_type": "code",
   "execution_count": 25,
   "id": "640705e0",
   "metadata": {},
   "outputs": [
    {
     "data": {
      "text/html": [
       "\n",
       "<style>\n",
       "    /* Turns off some styling */\n",
       "    progress {\n",
       "        /* gets rid of default border in Firefox and Opera. */\n",
       "        border: none;\n",
       "        /* Needs to be in here for Safari polyfill so background images work as expected. */\n",
       "        background-size: auto;\n",
       "    }\n",
       "    progress:not([value]), progress:not([value])::-webkit-progress-bar {\n",
       "        background: repeating-linear-gradient(45deg, #7e7e7e, #7e7e7e 10px, #5c5c5c 10px, #5c5c5c 20px);\n",
       "    }\n",
       "    .progress-bar-interrupted, .progress-bar-interrupted::-webkit-progress-bar {\n",
       "        background: #F44336;\n",
       "    }\n",
       "</style>\n"
      ],
      "text/plain": [
       "<IPython.core.display.HTML object>"
      ]
     },
     "metadata": {},
     "output_type": "display_data"
    },
    {
     "data": {
      "text/html": [],
      "text/plain": [
       "<IPython.core.display.HTML object>"
      ]
     },
     "metadata": {},
     "output_type": "display_data"
    },
    {
     "data": {
      "text/plain": [
       "('insects', TensorBase(1), TensorBase([1.4076e-05, 9.9999e-01]))"
      ]
     },
     "execution_count": 25,
     "metadata": {},
     "output_type": "execute_result"
    }
   ],
   "source": [
    "learn.predict(np.array(img))"
   ]
  },
  {
   "cell_type": "raw",
   "id": "29d3ad7f",
   "metadata": {},
   "source": []
  },
  {
   "cell_type": "markdown",
   "id": "c11f8645",
   "metadata": {},
   "source": []
  }
 ],
 "metadata": {
  "kernelspec": {
   "display_name": "Python 3 (ipykernel)",
   "language": "python",
   "name": "python3"
  },
  "language_info": {
   "codemirror_mode": {
    "name": "ipython",
    "version": 3
   },
   "file_extension": ".py",
   "mimetype": "text/x-python",
   "name": "python",
   "nbconvert_exporter": "python",
   "pygments_lexer": "ipython3",
   "version": "3.10.7"
  }
 },
 "nbformat": 4,
 "nbformat_minor": 5
}
